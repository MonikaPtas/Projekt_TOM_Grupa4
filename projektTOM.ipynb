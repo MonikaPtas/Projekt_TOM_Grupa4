{
 "cells": [
  {
   "cell_type": "code",
   "execution_count": 0,
   "metadata": {
    "colab": {},
    "colab_type": "code",
    "id": "IqzrOYWFqmp3"
   },
   "outputs": [],
   "source": [
    "! curl -s https://packagecloud.io/install/repositories/github/git-lfs/script.deb.sh | sudo bash\n",
    "! sudo apt-get install git-lfs\n",
    "! git lfs install\n",
    "! git clone https://github.com/neheller/kits19.git"
   ]
  },
  {
   "cell_type": "code",
   "execution_count": 0,
   "metadata": {
    "colab": {},
    "colab_type": "code",
    "id": "r4afde0VrV0n"
   },
   "outputs": [],
   "source": [
    "%cd kits19\n",
    "! python -m starter_code.get_imaging"
   ]
  },
  {
   "cell_type": "code",
   "execution_count": 0,
   "metadata": {
    "colab": {},
    "colab_type": "code",
    "id": "RC4tsEkCyjOM"
   },
   "outputs": [],
   "source": [
    "%cd kits19/\n",
    "from starter_code.visualize import visualize\n",
    "\n",
    "for i in range(300):\n",
    "  visualize(\"case_0000\"+i,\"/content/kits19/visualized/case_00003\")\n",
    "\n"
   ]
  },
  {
   "cell_type": "markdown",
   "metadata": {
    "colab_type": "text",
    "id": "7qi1EGhW0wkG"
   },
   "source": [
    "Komórka nie była używana \n"
   ]
  },
  {
   "cell_type": "code",
   "execution_count": 0,
   "metadata": {
    "colab": {},
    "colab_type": "code",
    "id": "OHEJ531erMpP"
   },
   "outputs": [],
   "source": [
    "import scipy\n",
    "import matplotlib.pyplot as plt\n",
    "from skimage import  color\n",
    "\n",
    "im = plt.imread('/content/kits19/visualized/case_00002/00100.png') \n",
    "im_gray = color.rgb2gray(im)\n",
    "for x in range(im.shape[0]):\n",
    "  for y in range(im.shape[1]):\n",
    "    if(im[x,y,0]<=0.60):\n",
    "      im[x,y,0]=0\n",
    "\n",
    "gauss = gaussian_smoothing(im_gray,3.0)\n",
    "\n",
    "plt.subplot(1,3,1)\n",
    "plt.imshow(im_gray,cmap='gray')\n",
    "plt.title(\"gray\")\n",
    "plt.subplot(1,3,2)\n",
    "plt.imshow(gauss,cmap='gray')\n",
    "plt.title('gauss')\n",
    "plt.subplot(1,3,3)\n",
    "plt.imshow(im,cmap='gray')\n",
    "plt.title('with red')\n",
    "plt.show()"
   ]
  },
  {
   "cell_type": "markdown",
   "metadata": {
    "colab_type": "text",
    "id": "ASIOZWFl02Go"
   },
   "source": [
    "W tej komórce otwierane są otrzymane dane ze zbioru Kits2019 za pomocą funkcji już przygotowanych do ich obsługi. Proces wykonywany jest dla wszystkich zdjęć automatycznie. Proces został sprawdzany manulanie jedynie dla folderów, które mogły zostać obsłużone przez pamięć obliczeniową o małym ramie. Przedstawiony proecs automatyczny poniżej zostaje zatrzymany podczas wczytania przypadku, w którym zabrakło pamięci obliczeniowej, na podstawie czego uważamy, że funckja działa poprawnie.\n"
   ]
  },
  {
   "cell_type": "code",
   "execution_count": 0,
   "metadata": {
    "colab": {},
    "colab_type": "code",
    "id": "uUHNXK3HFk-e"
   },
   "outputs": [],
   "source": [
    "import matplotlib.pyplot as plt\n",
    "from starter_code.utils import load_case\n",
    "from imageio import imwrite\n",
    "from pathlib import Path\n",
    "import argparse\n",
    "\n",
    "import scipy.misc\n",
    "import numpy as np\n",
    "\n",
    "for i in range(300):\n",
    "  i+=1\n",
    "  volume, segemnatation=load_case('case_0000'+str(i))\n",
    "\n",
    "  mask_out_path = Path(\"/content/kits19/visualized/case_0000\"+str(i)+\"/masks_0000\"+str(i))\n",
    "  image_out_path = Path(\"/content/kits19/visualized/case_0000\"+str(i)+\"/images_0000\"+str(i))\n",
    "  s=segemnatation.get_fdata()\n",
    "  v=volume.get_fdata()\n",
    "\n",
    "  for j in range(s.shape[0]):  \n",
    "    maskfpath = mask_out_path / (\"{:05d}.png\".format(j))\n",
    "    imagefpath = image_out_path / (\"{:05d}.png\".format(j))\n",
    "    imwrite(str(maskfpath), s[j,:,:])\n",
    "    imwrite(str(imagefpath), v[j,:,:])\n",
    "\n"
   ]
  },
  {
   "cell_type": "markdown",
   "metadata": {
    "colab_type": "text",
    "id": "HW8MOJ1K1G9N"
   },
   "source": [
    "Nieużywana funkcja do zmiany rozmiarów obrazków, jeśli sieć będzie za płytka, a rozmiar zdjęć nie bedzie pozwalał na prace na posiadanym RAM'ie. Której cos brakuje \n"
   ]
  },
  {
   "cell_type": "code",
   "execution_count": 0,
   "metadata": {
    "colab": {},
    "colab_type": "code",
    "id": "oh0OoeAGkb8c"
   },
   "outputs": [],
   "source": [
    "import os \n",
    "from skimage.io import imread, imsave\n",
    "import cv2\n",
    "\n",
    "\n",
    "path = \"/content/kits19/visualized/case_00002/images_00002\"\n",
    "scale = 128/512\n",
    "for image_path in os.listdir(path):\n",
    "\n",
    "  input_path = os.path.join(path, image_path)\n",
    "  img = imread(input_path)\n",
    "\n",
    "  width = int(img.shape[1] * scale)\n",
    "  hight = int(img.shape[0] * scale)\n",
    "  dim=(width,hight)\n",
    "  resized = cv2.resize(img, dim,interpolation=cv2.INTER_AREA)\n",
    "\n",
    "  fullpath = os.path.join(path, image_path)\n",
    "  imsave(fullpath, resized)"
   ]
  },
  {
   "cell_type": "markdown",
   "metadata": {
    "colab_type": "text",
    "id": "0JFcXcTG1hBo"
   },
   "source": [
    "W poniższym oknie tworzono architekturę sieci. Zamiarem było stworzyć architekturę AlexNet. Jednakże początkwo wprowadzono jedną z prostszych architektura, by sprawdzić działanie pracy. Jednakże ze względu na błąd, który prawdopodobnie wynika ze źle przygotowanych danych, nie jest możliwe aby sprwadzić działanie architektury."
   ]
  },
  {
   "cell_type": "code",
   "execution_count": 0,
   "metadata": {
    "colab": {
     "base_uri": "https://localhost:8080/",
     "height": 572
    },
    "colab_type": "code",
    "id": "dhFncdrQNI9d",
    "outputId": "8668a054-c0fb-4553-af30-09ef597bfdf9"
   },
   "outputs": [
    {
     "name": "stderr",
     "output_type": "stream",
     "text": [
      "0it [00:00, ?it/s]\n",
      "0it [00:00, ?it/s]\n"
     ]
    },
    {
     "name": "stdout",
     "output_type": "stream",
     "text": [
      "Model: \"sequential_2\"\n",
      "_________________________________________________________________\n",
      "Layer (type)                 Output Shape              Param #   \n",
      "=================================================================\n",
      "conv2d_4 (Conv2D)            (None, 512, 512, 50)      1400      \n",
      "_________________________________________________________________\n",
      "dropout_8 (Dropout)          (None, 512, 512, 50)      0         \n",
      "_________________________________________________________________\n",
      "conv2d_5 (Conv2D)            (None, 512, 512, 125)     56375     \n",
      "_________________________________________________________________\n",
      "max_pooling2d_2 (MaxPooling2 (None, 256, 256, 125)     0         \n",
      "_________________________________________________________________\n",
      "dropout_9 (Dropout)          (None, 256, 256, 125)     0         \n",
      "_________________________________________________________________\n",
      "flatten_2 (Flatten)          (None, 8192000)           0         \n",
      "_________________________________________________________________\n",
      "dense_6 (Dense)              (None, 50)                409600050 \n",
      "_________________________________________________________________\n",
      "dropout_10 (Dropout)         (None, 50)                0         \n",
      "_________________________________________________________________\n",
      "dense_7 (Dense)              (None, 30)                1530      \n",
      "_________________________________________________________________\n",
      "dropout_11 (Dropout)         (None, 30)                0         \n",
      "_________________________________________________________________\n",
      "dense_8 (Dense)              (None, 10)                310       \n",
      "=================================================================\n",
      "Total params: 409,659,665\n",
      "Trainable params: 409,659,665\n",
      "Non-trainable params: 0\n",
      "_________________________________________________________________\n"
     ]
    }
   ],
   "source": [
    "from keras.datasets import cifar10\n",
    "from tensorflow.keras.models import Sequential\n",
    "from tensorflow.keras.layers import Dense, Dropout, Conv2D, MaxPool2D, Flatten\n",
    "from keras.utils import np_utils\n",
    "import matplotlib.pyplot as plt \n",
    "import os\n",
    "import numpy as np\n",
    "from tqdm import tqdm\n",
    "from skimage.io import imread\n",
    "\n",
    "TRAIN_PATH = \"/content/kits19/visualized/case_00002/\"\n",
    "TEST_PATH = '/content/kits19/visualized/case_00003/images_00003/'\n",
    "\n",
    "train_ids = next(os.walk(TRAIN_PATH))[2]\n",
    "test_ids = next(os.walk(TEST_PATH))[1]\n",
    "\n",
    "X_train = np.zeros((len(train_ids),512,512,3),dtype=np.uint8)\n",
    "Y_train = np.zeros((len(train_ids),512,512,1),dtype=np.bool)\n",
    "\n",
    "X_test = np.zeros((len(test_ids),512,512,3),dtype=np.uint8)\n",
    "\n",
    "for n, id_ in tqdm(enumerate(train_ids),total=len(train_ids)):\n",
    "  path = TRAIN_PATH+id_\n",
    "  img=imread(path+'/images_00002/'+id_+'.png')[:,:,:,3]\n",
    "  X_train[n] = img\n",
    "\n",
    "  for mask_file in next(os.walk(path+'/masks_00002/'))[2]:\n",
    "    mask_=imread(path+'/masks_00002/'+mask_file)\n",
    "    mask = np.maximum(Y_train,mask_)\n",
    "\n",
    "  Y_train[n]=mask\n",
    "\n",
    "for n, id_ in tqdm(enumerate(test_ids),total=len(test_ids)):\n",
    "  path = TEST_PATH+id_\n",
    "  img=imread(path+'/images_00003/'+id_+'.png')[:,:,:,3]\n",
    "  X_test[n]=img\n",
    "\n",
    "model = Sequential()\n",
    "\n",
    "model.add(Conv2D(50, kernel_size=(3,3), strides=(1,1), padding='same', activation='relu', input_shape=(512, 512, 3)))\n",
    "model.add(Dropout(0.4))\n",
    "model.add(Conv2D(125, kernel_size=(3,3), strides=(1,1), padding='same', activation='relu'))\n",
    "model.add(MaxPool2D(pool_size=(2,2)))\n",
    "model.add(Dropout(0.25))\n",
    "\n",
    "model.add(Flatten())\n",
    "\n",
    "model.add(Dense(50, activation='relu'))\n",
    "model.add(Dropout(0.4))\n",
    "model.add(Dense(30, activation='relu'))\n",
    "model.add(Dropout(0.3))\n",
    "\n",
    "model.add(Dense(10, activation='softmax'))\n",
    "\n",
    "model.summary()"
   ]
  },
  {
   "cell_type": "markdown",
   "metadata": {
    "colab_type": "text",
    "id": "Fjs9ZHXD1ns1"
   },
   "source": [
    "Trenowanie danych ale coś nie gra :/\n"
   ]
  },
  {
   "cell_type": "code",
   "execution_count": 0,
   "metadata": {
    "colab": {},
    "colab_type": "code",
    "id": "eRPcD95dsKhP"
   },
   "outputs": [],
   "source": [
    "model.compile(loss='categorical_crossentropy', metrics=['accuracy'], optimizer='adam')"
   ]
  },
  {
   "cell_type": "code",
   "execution_count": 0,
   "metadata": {
    "colab": {},
    "colab_type": "code",
    "id": "PQc__ZxRsOhz"
   },
   "outputs": [],
   "source": [
    "import tensorflow as tf\n",
    "\n",
    "callbacks = [\n",
    "        tf.keras.callbacks.EarlyStopping(patience=2, monitor='val_loss'),\n",
    "        tf.keras.callbacks.TensorBoard(log_dir='logs')]\n",
    "\n",
    "results=model.fit(X_train, Y_train,validation_split=0.1, batch_size=16, epochs=25,callbacks=callbacks)"
   ]
  },
  {
   "cell_type": "markdown",
   "metadata": {
    "colab_type": "text",
    "id": "zzd1n-tRy-Da"
   },
   "source": [
    "Funkacja do ewaluacji - wskaźnik Jaccard index.\n"
   ]
  },
  {
   "cell_type": "code",
   "execution_count": 0,
   "metadata": {
    "colab": {},
    "colab_type": "code",
    "id": "LLb3C1dey7uG"
   },
   "outputs": [],
   "source": [
    "import numpy as np\n",
    "def evaluation(target,prediction):\n",
    "  score=[]\n",
    "  for i in range (target.shape[0]):\n",
    "     intersection = np.logical_and(target[i,:,:], prediction[i,:,:])\n",
    "     union = np.logical_or(target[i,:,:], prediction[i,:,:])\n",
    "     if np.sum(union)!=0:\n",
    "       jac = np.sum(intersection)/np.sum(union)\n",
    "       score.append(jac)\n",
    "  return np.mean(score)\n",
    "\n",
    "score= evaluation(s,s)"
   ]
  }
 ],
 "metadata": {
  "colab": {
   "collapsed_sections": [],
   "name": "projektTOM",
   "provenance": []
  },
  "kernelspec": {
   "display_name": "Python 3",
   "language": "python",
   "name": "python3"
  },
  "language_info": {
   "codemirror_mode": {
    "name": "ipython",
    "version": 3
   },
   "file_extension": ".py",
   "mimetype": "text/x-python",
   "name": "python",
   "nbconvert_exporter": "python",
   "pygments_lexer": "ipython3",
   "version": "3.7.4"
  }
 },
 "nbformat": 4,
 "nbformat_minor": 1
}
